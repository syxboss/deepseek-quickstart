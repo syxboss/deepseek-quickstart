{
 "cells": [
  {
   "cell_type": "code",
   "execution_count": 1,
   "id": "44d78779-a4ae-4ad1-be13-f7a9aae648a8",
   "metadata": {},
   "outputs": [
    {
     "name": "stdout",
     "output_type": "stream",
     "text": [
      "Requirement already satisfied: openai==1.82.0 in /opt/anaconda3/envs/deepseek/lib/python3.13/site-packages (1.82.0)\n",
      "Requirement already satisfied: anyio<5,>=3.5.0 in /opt/anaconda3/envs/deepseek/lib/python3.13/site-packages (from openai==1.82.0) (4.9.0)\n",
      "Requirement already satisfied: distro<2,>=1.7.0 in /opt/anaconda3/envs/deepseek/lib/python3.13/site-packages (from openai==1.82.0) (1.9.0)\n",
      "Requirement already satisfied: httpx<1,>=0.23.0 in /opt/anaconda3/envs/deepseek/lib/python3.13/site-packages (from openai==1.82.0) (0.28.1)\n",
      "Requirement already satisfied: jiter<1,>=0.4.0 in /opt/anaconda3/envs/deepseek/lib/python3.13/site-packages (from openai==1.82.0) (0.10.0)\n",
      "Requirement already satisfied: pydantic<3,>=1.9.0 in /opt/anaconda3/envs/deepseek/lib/python3.13/site-packages (from openai==1.82.0) (2.11.5)\n",
      "Requirement already satisfied: sniffio in /opt/anaconda3/envs/deepseek/lib/python3.13/site-packages (from openai==1.82.0) (1.3.1)\n",
      "Requirement already satisfied: tqdm>4 in /opt/anaconda3/envs/deepseek/lib/python3.13/site-packages (from openai==1.82.0) (4.67.1)\n",
      "Requirement already satisfied: typing-extensions<5,>=4.11 in /opt/anaconda3/envs/deepseek/lib/python3.13/site-packages (from openai==1.82.0) (4.13.2)\n",
      "Requirement already satisfied: idna>=2.8 in /opt/anaconda3/envs/deepseek/lib/python3.13/site-packages (from anyio<5,>=3.5.0->openai==1.82.0) (3.10)\n",
      "Requirement already satisfied: certifi in /opt/anaconda3/envs/deepseek/lib/python3.13/site-packages (from httpx<1,>=0.23.0->openai==1.82.0) (2025.4.26)\n",
      "Requirement already satisfied: httpcore==1.* in /opt/anaconda3/envs/deepseek/lib/python3.13/site-packages (from httpx<1,>=0.23.0->openai==1.82.0) (1.0.9)\n",
      "Requirement already satisfied: h11>=0.16 in /opt/anaconda3/envs/deepseek/lib/python3.13/site-packages (from httpcore==1.*->httpx<1,>=0.23.0->openai==1.82.0) (0.16.0)\n",
      "Requirement already satisfied: annotated-types>=0.6.0 in /opt/anaconda3/envs/deepseek/lib/python3.13/site-packages (from pydantic<3,>=1.9.0->openai==1.82.0) (0.7.0)\n",
      "Requirement already satisfied: pydantic-core==2.33.2 in /opt/anaconda3/envs/deepseek/lib/python3.13/site-packages (from pydantic<3,>=1.9.0->openai==1.82.0) (2.33.2)\n",
      "Requirement already satisfied: typing-inspection>=0.4.0 in /opt/anaconda3/envs/deepseek/lib/python3.13/site-packages (from pydantic<3,>=1.9.0->openai==1.82.0) (0.4.1)\n",
      "Note: you may need to restart the kernel to use updated packages.\n"
     ]
    }
   ],
   "source": [
    "%pip install openai==1.82.0 "
   ]
  },
  {
   "cell_type": "code",
   "execution_count": 2,
   "id": "14dc02a3-4736-45f7-a2da-1978123fac95",
   "metadata": {},
   "outputs": [],
   "source": [
    "import os\n",
    "from openai import OpenAI\n",
    "\n",
    "# 从环境变量获取 DeepSeek API Key\n",
    "api_key = os.getenv(\"DEEPSEEK_API_KEY\")\n",
    "if not api_key:\n",
    "    raise ValueError(\"请设置 DEEPSEEK_API_KEY 环境变量\")\n",
    "\n",
    "# 初始化 OpenAI 客户端（假设 DeepSeek 的 API 兼容 OpenAI 格式）\n",
    "client = OpenAI(\n",
    "    base_url=\"http://localhost:11434/v1\",  # 私有化部署 DeepSeek API 的基地址\n",
    ")\n",
    "\n",
    "# 定义提示词\n",
    "prompt = \"\"\"请生成一篇小红书爆款文案，主题为环保咖啡杯\"\"\""
   ]
  },
  {
   "cell_type": "code",
   "execution_count": 5,
   "id": "428f7ead-142c-4f5c-a57b-d9194b51d725",
   "metadata": {},
   "outputs": [
    {
     "name": "stdout",
     "output_type": "stream",
     "text": [
      "===== 生成文案 =====\n",
      "<think>\n",
      "嗯，用户让我写一个关于环保咖啡杯的小红书爆款文案……这是个挺有意思的话题呢。\n",
      "\n",
      "首先得分析一下这个请求的具体内容和背景。用户希望我扮演的是“经常通过高超的技巧写出多款爆款文章”的小红书博主角色，然后生成一篇主题为\"环保咖啡杯\"的爆款文案。要理解这个职业身份的特点：语气轻松活泼、用词简洁时尚、带有强烈的情绪共鸣。\n",
      "\n",
      "这个请求需要考虑几个关键点：\n",
      "- 需要有强烈的个人情感色彩\n",
      "- 内容要真实可信但又不失营销性 \n",
      "- 结构上要有开头吸引人、中间提供价值、结尾引导行动的转化路径\n",
      "\n",
      "接下来思考环保咖啡杯这个主题。用户可能是想推广一款环保产品，或者分享使用体验……这种文案类型通常需要：\n",
      "1. 打造个人故事和情感共鸣\n",
      "2. 强调产品的实用性和美观性 \n",
      "3. 提供具体购买建议  \n",
      "4. 使用适合小红书平台的语言风格\n",
      "\n",
      "在构思过程中我会考虑如何将这个普通的产品介绍变成有感染力的内容。可以设计一个\"痛点引发共鸣+解决方案展示+真实体验分享+呼吁行动\"的结构，这样更容易激发读者兴趣。\n",
      "\n",
      "准备用具体的使用场景来开头吸引人，比如通勤路上找不到杯子的小烦恼……然后自然过渡到推荐环保咖啡杯产品，重点突出它的便携性、美观性和重复使用的便利。会考虑加入一些具体数据增强说服力，并且强调这种选择对环境的影响很小但意义重大。\n",
      "\n",
      "为了让文案更有吸引力，会在语气上使用感叹号和表情符号来增加情绪表达，在结构上采用分段清晰的排版方式，并融入个人真实感受……这样写出来应该能够引发读者共鸣并激发购买欲望。\n",
      "</think>\n",
      "终于找到一款颜值与实用兼备的环保咖啡杯了！\n",
      "\n",
      "作为一个每天都要喝好几杯咖啡的人，我之前真的太不爱惜杯子了。但是自从有了这个随身携带的小宝贝后，一切都改变了。\n",
      "\n",
      "它的设计真的很贴心，轻巧又方便拿放。材质也很结实耐用，不用担心摔坏或者怎么清洗的问题。特别喜欢它那简约的外观，放在包里都不会觉得占地方。\n",
      "\n",
      "最棒的是，这款咖啡杯真的超级适合上班族使用！早上买面包的时候顺便在咖啡店买一杯，中午开会也能喝上热乎的。再也不用忍受找不到杯子而无法享受咖啡的尴尬啦～\n",
      "\n",
      "而且价格非常亲民，才几十块钱就能买到一个环保又好看的杯子。对于我这种爱赶时间的人来说，简直就是完美！\n",
      "\n",
      "强烈推荐给大家！如果你也在为重复使用杯子的问题发愁，不妨试试这款吧～绝对让你爱上随身携带环保杯的感觉！\n",
      "\n",
      "#环保咖啡杯 #通勤神器 #上班族必备\n"
     ]
    }
   ],
   "source": [
    "try:\n",
    "    # 调用 DeepSeek Chat API\n",
    "    response = client.chat.completions.create(\n",
    "        model=\"deepseek-r1:8b\",  # 或 DeepSeek 提供的其他模型名称\n",
    "        messages=[\n",
    "            {\"role\": \"system\", \"content\": \"你是一个小红书博主，经常通过高超的技巧写出多款爆款文章。\"},\n",
    "            {\"role\": \"user\", \"content\": prompt}\n",
    "        ],\n",
    "        temperature=0.7,\n",
    "        stream=False\n",
    "    )\n",
    "\n",
    "    print(\"===== 生成文案 =====\")\n",
    "    print(response.choices[0].message.content)\n",
    "\n",
    "except Exception as e:\n",
    "    print(f\"调用 API 出错: {e}\")"
   ]
  },
  {
   "cell_type": "code",
   "execution_count": null,
   "id": "4648730d-2ec3-494f-9546-52a7687d4589",
   "metadata": {},
   "outputs": [],
   "source": []
  }
 ],
 "metadata": {
  "kernelspec": {
   "display_name": "deepseek",
   "language": "python",
   "name": "python3"
  },
  "language_info": {
   "codemirror_mode": {
    "name": "ipython",
    "version": 3
   },
   "file_extension": ".py",
   "mimetype": "text/x-python",
   "name": "python",
   "nbconvert_exporter": "python",
   "pygments_lexer": "ipython3",
   "version": "3.13.2"
  }
 },
 "nbformat": 4,
 "nbformat_minor": 5
}
